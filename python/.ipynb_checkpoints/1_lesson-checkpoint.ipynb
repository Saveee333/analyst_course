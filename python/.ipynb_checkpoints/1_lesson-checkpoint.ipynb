{
 "cells": [
  {
   "cell_type": "markdown",
   "id": "38a2375c",
   "metadata": {},
   "source": [
    "# Задание\n",
    "Начнём с простого: сохраните в переменную age произвольный возраст, выраженный целым числом, а в переменную name – какое-нибудь имя в виде строки.\n",
    "\n"
   ]
  },
  {
   "cell_type": "code",
   "execution_count": 3,
   "id": "55998287",
   "metadata": {},
   "outputs": [],
   "source": [
    "age = 5\n",
    "name = \"Ivan\""
   ]
  },
  {
   "cell_type": "markdown",
   "id": "10359f75",
   "metadata": {},
   "source": [
    "  "
   ]
  },
  {
   "cell_type": "markdown",
   "id": "613f1889",
   "metadata": {},
   "source": [
    "# Задание\n",
    "Создайте список user_info, содержащий 4 элемента в следующем порядке:\n",
    "\n",
    "2 строки (имя и фамилия пользователя)\n",
    "\n",
    "1 дробное число (зарплата)\n",
    "\n",
    "1 целое число (стаж)\n"
   ]
  },
  {
   "cell_type": "code",
   "execution_count": 4,
   "id": "08de5c03",
   "metadata": {},
   "outputs": [],
   "source": [
    "info = [\"Ivan\", \"Ivanov\", 80000.5, 2]"
   ]
  },
  {
   "cell_type": "markdown",
   "id": "2cda5647",
   "metadata": {},
   "source": [
    " "
   ]
  },
  {
   "cell_type": "markdown",
   "id": "5c4bb820",
   "metadata": {},
   "source": [
    "# Задание\n",
    "Поместите в переменную first первый (т.е. нулевой) элемент из списка salaries.\n",
    "\n",
    "Сам список создавать не нужно, он уже находится в переменной salaries.\n",
    "\n"
   ]
  },
  {
   "cell_type": "code",
   "execution_count": null,
   "id": "441f5424",
   "metadata": {},
   "outputs": [],
   "source": [
    "first = salaries[0]"
   ]
  },
  {
   "cell_type": "markdown",
   "id": "7f0c1be7",
   "metadata": {},
   "source": [
    " "
   ]
  },
  {
   "cell_type": "markdown",
   "id": "37ca38df",
   "metadata": {},
   "source": [
    "# Задание\n",
    "Добавьте в уже созданный список users элементы 'Voronov' и 42.\n",
    "\n",
    "Сам список создавать не нужно, он уже находится в переменной users."
   ]
  },
  {
   "cell_type": "code",
   "execution_count": null,
   "id": "91dd43d4",
   "metadata": {},
   "outputs": [],
   "source": [
    "users.append('Voronov')\n",
    "users.append(42)"
   ]
  },
  {
   "cell_type": "markdown",
   "id": "995670f3",
   "metadata": {},
   "source": [
    " "
   ]
  },
  {
   "cell_type": "markdown",
   "id": "bcd55ddf",
   "metadata": {},
   "source": [
    "# Задание\n",
    "В переменной user_ages содержится список возрастов клиентов. Напишите цикл, выводящий на печать элементы больше 18.\n",
    "\n",
    "Сам список создавать не нужно, он уже находится в переменной user_ages.\n",
    "\n",
    "Пример данных, которые могут быть в user_ages:\n",
    "\n",
    "user_ages = [10, 18, 21, 35, 42, 27, 12, 16]\n",
    "\n",
    "Note: в этом задании эти числа нужно печатать (используйте функцию print)."
   ]
  },
  {
   "cell_type": "code",
   "execution_count": null,
   "id": "8ae99894",
   "metadata": {},
   "outputs": [],
   "source": [
    "for user_age in user_ages:\n",
    "    if user_age > 18:\n",
    "        print(user_age)"
   ]
  },
  {
   "cell_type": "markdown",
   "id": "bdda7857",
   "metadata": {},
   "source": [
    " "
   ]
  },
  {
   "cell_type": "markdown",
   "id": "a97237b0",
   "metadata": {},
   "source": [
    "# Задание\n",
    "Напишите программу, проверяющую стаж работы сотрудника. В переменной worker уже содержится список, содержащий значения как во 2-м задании (имя, фамилия, зарплата, стаж). Поместите в переменную status следующую строку:\n",
    "\n",
    "user_name user_family is position\n",
    "\n",
    "\n",
    "где user_name и user_family — имя и фамилия сотрудника, а position — одно из следующих значений:\n",
    "\n",
    "'junior' — стаж меньше 2 лет\n",
    "\n",
    "'middle' — стаж больше либо равен 2 лет\n",
    "\n",
    "'senior' — стаж больше 5 лет\n",
    "\n",
    "Пример данных, которые могут быть в worker:\n",
    "worker = ['Olya', 'Silyutina', 350000, 3]\n",
    "\n",
    "Hint: печатать результат не нужно, просто запишите его в переменную status."
   ]
  },
  {
   "cell_type": "code",
   "execution_count": null,
   "id": "8d109faf",
   "metadata": {},
   "outputs": [],
   "source": [
    "if worker[3] < 2:\n",
    "    position = 'junior'\n",
    "elif worker[3] >= 2 and worker[3] < 5:\n",
    "    position = 'middle'\n",
    "else:\n",
    "    position = 'senior'\n",
    "\n",
    "status = f'{worker[0]} {worker[1]} is {position}'"
   ]
  },
  {
   "cell_type": "markdown",
   "id": "fdb2563c",
   "metadata": {},
   "source": [
    " "
   ]
  },
  {
   "cell_type": "markdown",
   "id": "681ad82f",
   "metadata": {},
   "source": [
    "# Задание\n",
    "В списке values содержатся числовые значения. Создайте список tens и добавьте в него все числа из values, которые делятся на 10 нацело.\n",
    "\n",
    "Сам список создавать не нужно, он уже находится в переменной values.\n",
    "\n",
    "Пример данных, которые могут быть в values:\n",
    "\n",
    "values = [12, 134, 10, 47, 100, 20, 50, 160, 210]\n",
    "\n",
    "\n"
   ]
  },
  {
   "cell_type": "code",
   "execution_count": null,
   "id": "e143f35c",
   "metadata": {},
   "outputs": [],
   "source": [
    "tens = [num for num in values if num%10 == 0]"
   ]
  },
  {
   "cell_type": "markdown",
   "id": "bd52040a",
   "metadata": {},
   "source": [
    "  "
   ]
  },
  {
   "cell_type": "markdown",
   "id": "db1618de",
   "metadata": {},
   "source": [
    "# Задание\n",
    "Реализуйте цикл, который пробегается по уже созданному списку workers со значениями как в 2-м и 6-м заданиях и выводит для каждого сотрудника следующую строку (то есть печатает её для каждого элемента списка):\n",
    "\n",
    "user_name user_family is position\n",
    "\n",
    "\n",
    "где user_name и user_family — имя и фамилия сотрудника, а position — одна из следующих строк:\n",
    "\n",
    "'junior' — стаж меньше 2 лет\n",
    "\n",
    "'middle' — стаж больше либо равен 2\n",
    "\n",
    "'senior' — стаж строго больше 5 лет \n",
    "\n",
    "Пример данных, которые могут быть в workers:\n",
    "\n",
    "workers = [['Ivan', 'Ivanov', 100000, 2], ['Petr', 'Petrov', 150000, 2], ['Sidor', 'Sidorov', 200000, 3]]\n",
    "\n",
    "Сам список создавать не нужно, он уже находится в переменной workers.\n",
    "\n",
    "Note: в этом задании эти строки нужно печатать (используйте функцию print)."
   ]
  },
  {
   "cell_type": "code",
   "execution_count": null,
   "id": "2ca9c279",
   "metadata": {},
   "outputs": [],
   "source": [
    "for worker in workers:\n",
    "    if worker[3] < 2:\n",
    "        print(f'{worker[0]} {worker[1]} is junior')\n",
    "    elif worker[3] >= 2 and worker[3] <= 5:\n",
    "        print(f'{worker[0]} {worker[1]} is middle')\n",
    "    else:\n",
    "        print(f'{worker[0]} {worker[1]} is senior')"
   ]
  },
  {
   "cell_type": "markdown",
   "id": "8c77e4a6",
   "metadata": {},
   "source": [
    " "
   ]
  },
  {
   "cell_type": "markdown",
   "id": "83e5f5af",
   "metadata": {},
   "source": [
    "# Задание\n",
    "Поместите в список lst числа от 0 (n = 0) до 10 включительно (N = 10) c шагом 2 (dn = 2). Для этого используйте условие while.\n",
    "\n",
    "Note: необходимо создать переменную lst, а переменные n, N, dn создавать не нужно."
   ]
  },
  {
   "cell_type": "code",
   "execution_count": null,
   "id": "5448c83f",
   "metadata": {},
   "outputs": [],
   "source": [
    "lst = []\n",
    "\n",
    "while n <= N:\n",
    "    lst.append(n)\n",
    "    n += dn"
   ]
  }
 ],
 "metadata": {
  "kernelspec": {
   "display_name": "Python 3 (ipykernel)",
   "language": "python",
   "name": "python3"
  },
  "language_info": {
   "codemirror_mode": {
    "name": "ipython",
    "version": 3
   },
   "file_extension": ".py",
   "mimetype": "text/x-python",
   "name": "python",
   "nbconvert_exporter": "python",
   "pygments_lexer": "ipython3",
   "version": "3.11.1"
  }
 },
 "nbformat": 4,
 "nbformat_minor": 5
}
